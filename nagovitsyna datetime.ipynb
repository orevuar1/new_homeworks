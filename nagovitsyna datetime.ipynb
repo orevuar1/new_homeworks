{
 "cells": [
  {
   "cell_type": "markdown",
   "metadata": {},
   "source": [
    "## Задание 1 и 2\n",
    "Напишите функцию date_range, которая возвращает список дней между датами start_date и end_date. Даты должны вводиться в формате YYYY-MM-DD."
   ]
  },
  {
   "cell_type": "code",
   "execution_count": 27,
   "metadata": {},
   "outputs": [],
   "source": [
    "import datetime as dt\n",
    "from datetime import datetime"
   ]
  },
  {
   "cell_type": "code",
   "execution_count": 3,
   "metadata": {},
   "outputs": [],
   "source": [
    "from datetime import timedelta"
   ]
  },
  {
   "cell_type": "code",
   "execution_count": 17,
   "metadata": {},
   "outputs": [],
   "source": [
    "def fnc_dt():\n",
    "    start_date = input(\"Введите дату начала в формате YYYY-MM-DD \")\n",
    "    end_date = input(\"Введите дату окончания в формате YYYY-MM-DD \")\n",
    "    lst_dt = []\n",
    "    try: \n",
    "        dt_start = datetime.strptime(start_date, '%Y-%m-%d')\n",
    "        dt_end = datetime.strptime(end_date, '%Y-%m-%d')\n",
    "        if (dt_start < dt_end):\n",
    "            while abs((dt_end - dt_start).days)>1:\n",
    "                dt_start += timedelta(days=1)\n",
    "                lst_dt.append(dt_start.strftime('%Y-%m-%d'))\n",
    "        else:\n",
    "            print('Дата окончания должна быть больше даты начала')\n",
    "    except: \n",
    "            print('Введена некорректная дата')\n",
    "    finally:\n",
    "        return lst_dt"
   ]
  },
  {
   "cell_type": "code",
   "execution_count": 19,
   "metadata": {},
   "outputs": [
    {
     "name": "stdout",
     "output_type": "stream",
     "text": [
      "Введите дату начала в формате YYYY-MM-DD 2020-04-30\n",
      "Введите дату окончания в формате YYYY-MM-DD 2020-05-01\n"
     ]
    },
    {
     "data": {
      "text/plain": [
       "[]"
      ]
     },
     "execution_count": 19,
     "metadata": {},
     "output_type": "execute_result"
    }
   ],
   "source": [
    "fnc_dt()"
   ]
  },
  {
   "cell_type": "markdown",
   "metadata": {},
   "source": [
    "## Задание 3"
   ]
  },
  {
   "cell_type": "code",
   "execution_count": 31,
   "metadata": {},
   "outputs": [
    {
     "name": "stdout",
     "output_type": "stream",
     "text": [
      "{'2018-04-02': 'Корректная дата', '2018-02-29': 'Некорректная дата', '2018-19-02': 'Некорректная дата', '2020-05-30': 'Корректная дата', '2020-06-31': 'Некорректная дата'}\n"
     ]
    }
   ],
   "source": [
    "stream = ['2018-04-02', '2018-02-29', '2018-19-02', '2020-05-30', '2020-06-31']\n",
    "v_dict = {}\n",
    "for dt in stream:\n",
    "    try:\n",
    "        tst_dt = datetime.strptime(dt, '%Y-%m-%d')\n",
    "        v_dict[dt] = 'Корректная дата'\n",
    "    except:\n",
    "        v_dict[dt] = 'Некорректная дата'\n",
    "        continue\n",
    "print(v_dict)\n",
    "            "
   ]
  },
  {
   "cell_type": "markdown",
   "metadata": {},
   "source": [
    "## Задание 4"
   ]
  },
  {
   "cell_type": "code",
   "execution_count": 44,
   "metadata": {},
   "outputs": [],
   "source": [
    "DEFAULT_USER_COUNT = 3\n",
    "def delete_and_return_last_user(region, default_list=['A100', 'A101', 'A102']):\n",
    "    element_to_delete = default_list[-1]\n",
    "    print(element_to_delete)\n",
    "    default_list.remove(element_to_delete)\n",
    "    print(default_list)\n",
    "    return default_list[DEFAULT_USER_COUNT-2]\n"
   ]
  },
  {
   "cell_type": "code",
   "execution_count": 46,
   "metadata": {},
   "outputs": [
    {
     "name": "stdout",
     "output_type": "stream",
     "text": [
      "A101\n",
      "['A100']\n"
     ]
    }
   ],
   "source": [
    "delete_and_return_last_user(1)"
   ]
  },
  {
   "cell_type": "markdown",
   "metadata": {},
   "source": [
    "list index out of range - ошибка обращения к несуществующему элементу массива.\n",
    "Функция удаляет последний элемент массива и возвращает элемент с индексом 1. \n",
    "После первого запуска в массива остается два элемента. При втором запуске удаляется элемент с индексом один, и поэтому он не может быть возвращен функцией. "
   ]
  }
 ],
 "metadata": {
  "kernelspec": {
   "display_name": "Python 3",
   "language": "python",
   "name": "python3"
  },
  "language_info": {
   "codemirror_mode": {
    "name": "ipython",
    "version": 3
   },
   "file_extension": ".py",
   "mimetype": "text/x-python",
   "name": "python",
   "nbconvert_exporter": "python",
   "pygments_lexer": "ipython3",
   "version": "3.7.6"
  }
 },
 "nbformat": 4,
 "nbformat_minor": 2
}
