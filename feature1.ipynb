{
 "cells": [
  {
   "cell_type": "code",
   "execution_count": 1,
   "metadata": {},
   "outputs": [],
   "source": [
    "import numpy as np\n",
    "import pandas as pd\n",
    "import seaborn as sns\n",
    "from sklearn.linear_model import LinearRegression"
   ]
  },
  {
   "cell_type": "markdown",
   "metadata": {},
   "source": [
    "Создаем пример. Я люблю авиацию, поэтому представлю, что работаю в авиакомпании, и мне нужно построить моодель линейной регрессии, предсказав стоимость керосина (amount) , который мы купим и используем для перевозок в следующем месяце. Допустим, у нас есть датасет с признаками: \n",
    "\n",
    "* mounth - месяц перевозки\n",
    "* price_kerosin - цена на керосин по перевозке\n",
    "* volume - сколько литров потрачено"
   ]
  },
  {
   "cell_type": "code",
   "execution_count": 8,
   "metadata": {},
   "outputs": [],
   "source": [
    "n_samples = 1000"
   ]
  },
  {
   "cell_type": "code",
   "execution_count": 16,
   "metadata": {},
   "outputs": [
    {
     "data": {
      "text/html": [
       "<div>\n",
       "<style scoped>\n",
       "    .dataframe tbody tr th:only-of-type {\n",
       "        vertical-align: middle;\n",
       "    }\n",
       "\n",
       "    .dataframe tbody tr th {\n",
       "        vertical-align: top;\n",
       "    }\n",
       "\n",
       "    .dataframe thead th {\n",
       "        text-align: right;\n",
       "    }\n",
       "</style>\n",
       "<table border=\"1\" class=\"dataframe\">\n",
       "  <thead>\n",
       "    <tr style=\"text-align: right;\">\n",
       "      <th></th>\n",
       "      <th>mounth</th>\n",
       "      <th>price_kerosin</th>\n",
       "      <th>volume</th>\n",
       "      <th>amount</th>\n",
       "    </tr>\n",
       "  </thead>\n",
       "  <tbody>\n",
       "    <tr>\n",
       "      <td>0</td>\n",
       "      <td>10</td>\n",
       "      <td>55</td>\n",
       "      <td>10943</td>\n",
       "      <td>28889521.7</td>\n",
       "    </tr>\n",
       "    <tr>\n",
       "      <td>1</td>\n",
       "      <td>11</td>\n",
       "      <td>132</td>\n",
       "      <td>10951</td>\n",
       "      <td>69385537.7</td>\n",
       "    </tr>\n",
       "    <tr>\n",
       "      <td>2</td>\n",
       "      <td>7</td>\n",
       "      <td>43</td>\n",
       "      <td>21352</td>\n",
       "      <td>44070529.7</td>\n",
       "    </tr>\n",
       "    <tr>\n",
       "      <td>3</td>\n",
       "      <td>10</td>\n",
       "      <td>41</td>\n",
       "      <td>6151</td>\n",
       "      <td>12105169.7</td>\n",
       "    </tr>\n",
       "    <tr>\n",
       "      <td>4</td>\n",
       "      <td>11</td>\n",
       "      <td>50</td>\n",
       "      <td>20971</td>\n",
       "      <td>50330401.7</td>\n",
       "    </tr>\n",
       "  </tbody>\n",
       "</table>\n",
       "</div>"
      ],
      "text/plain": [
       "   mounth  price_kerosin  volume      amount\n",
       "0      10             55   10943  28889521.7\n",
       "1      11            132   10951  69385537.7\n",
       "2       7             43   21352  44070529.7\n",
       "3      10             41    6151  12105169.7\n",
       "4      11             50   20971  50330401.7"
      ]
     },
     "execution_count": 16,
     "metadata": {},
     "output_type": "execute_result"
    }
   ],
   "source": [
    "mounth = np.random.choice(12, n_samples) + 1\n",
    "price_kerosin = np.random.choice(100, n_samples) + 38\n",
    "volume = np.random.choice(27500, n_samples) + 4500\n",
    "\n",
    "# при условии, что 48 литров самолёт расходует в час, и есть еще некий сдвиг из-за ветра, получим:\n",
    "\n",
    "amount = price_kerosin * volume * 48 + 1.7\n",
    "\n",
    "df = pd.DataFrame({'mounth': mounth, 'price_kerosin': price_kerosin, 'volume': volume, 'amount': amount})\n",
    "df.head()"
   ]
  },
  {
   "cell_type": "code",
   "execution_count": 19,
   "metadata": {
    "scrolled": true
   },
   "outputs": [
    {
     "name": "stdout",
     "output_type": "stream",
     "text": [
      "Weights: [102150.65300827 844723.93050819   4156.51267919]\n",
      "Bias: -74052903.70234603\n",
      "Error: 8381138.276434995\n"
     ]
    }
   ],
   "source": [
    "from sklearn.metrics import mean_absolute_error\n",
    "\n",
    "X = df[['mounth', 'price_kerosin', 'volume']]\n",
    "y = df['amount']\n",
    "reg = LinearRegression().fit(X, y)\n",
    "print('Weights: {}'.format(reg.coef_))\n",
    "print('Bias: {}'.format(reg.intercept_))\n",
    "\n",
    "pred_values = reg.predict(df[['mounth', 'price_kerosin', 'volume']])\n",
    "print('Error: {}'.format(mean_absolute_error(pred_values, y)))"
   ]
  },
  {
   "cell_type": "code",
   "execution_count": 21,
   "metadata": {},
   "outputs": [
    {
     "data": {
      "text/plain": [
       "65871217.7"
      ]
     },
     "execution_count": 21,
     "metadata": {},
     "output_type": "execute_result"
    }
   ],
   "source": [
    "df.amount.median()"
   ]
  },
  {
   "cell_type": "markdown",
   "metadata": {},
   "source": [
    "Получилось предсказание с абсолютной ошибкой 8 млн рублей, медиана при этом равна 65 млн, ошибка составляет значительную часть выборки 12%.\n",
    "Попробуем вывести новый признак, который позволит предсказать формулу регрессии с большей точностью\n",
    "Например, умножим цену на кол-во, получим признак cost - сколько потратили за перевозку."
   ]
  },
  {
   "cell_type": "code",
   "execution_count": 24,
   "metadata": {},
   "outputs": [
    {
     "data": {
      "text/html": [
       "<div>\n",
       "<style scoped>\n",
       "    .dataframe tbody tr th:only-of-type {\n",
       "        vertical-align: middle;\n",
       "    }\n",
       "\n",
       "    .dataframe tbody tr th {\n",
       "        vertical-align: top;\n",
       "    }\n",
       "\n",
       "    .dataframe thead th {\n",
       "        text-align: right;\n",
       "    }\n",
       "</style>\n",
       "<table border=\"1\" class=\"dataframe\">\n",
       "  <thead>\n",
       "    <tr style=\"text-align: right;\">\n",
       "      <th></th>\n",
       "      <th>mounth</th>\n",
       "      <th>price_kerosin</th>\n",
       "      <th>volume</th>\n",
       "      <th>amount</th>\n",
       "      <th>cost</th>\n",
       "    </tr>\n",
       "  </thead>\n",
       "  <tbody>\n",
       "    <tr>\n",
       "      <td>0</td>\n",
       "      <td>10</td>\n",
       "      <td>55</td>\n",
       "      <td>10943</td>\n",
       "      <td>28889521.7</td>\n",
       "      <td>601865</td>\n",
       "    </tr>\n",
       "    <tr>\n",
       "      <td>1</td>\n",
       "      <td>11</td>\n",
       "      <td>132</td>\n",
       "      <td>10951</td>\n",
       "      <td>69385537.7</td>\n",
       "      <td>1445532</td>\n",
       "    </tr>\n",
       "    <tr>\n",
       "      <td>2</td>\n",
       "      <td>7</td>\n",
       "      <td>43</td>\n",
       "      <td>21352</td>\n",
       "      <td>44070529.7</td>\n",
       "      <td>918136</td>\n",
       "    </tr>\n",
       "    <tr>\n",
       "      <td>3</td>\n",
       "      <td>10</td>\n",
       "      <td>41</td>\n",
       "      <td>6151</td>\n",
       "      <td>12105169.7</td>\n",
       "      <td>252191</td>\n",
       "    </tr>\n",
       "    <tr>\n",
       "      <td>4</td>\n",
       "      <td>11</td>\n",
       "      <td>50</td>\n",
       "      <td>20971</td>\n",
       "      <td>50330401.7</td>\n",
       "      <td>1048550</td>\n",
       "    </tr>\n",
       "  </tbody>\n",
       "</table>\n",
       "</div>"
      ],
      "text/plain": [
       "   mounth  price_kerosin  volume      amount     cost\n",
       "0      10             55   10943  28889521.7   601865\n",
       "1      11            132   10951  69385537.7  1445532\n",
       "2       7             43   21352  44070529.7   918136\n",
       "3      10             41    6151  12105169.7   252191\n",
       "4      11             50   20971  50330401.7  1048550"
      ]
     },
     "execution_count": 24,
     "metadata": {},
     "output_type": "execute_result"
    }
   ],
   "source": [
    "df['cost'] = df['price_kerosin']*df['volume']\n",
    "df.head()"
   ]
  },
  {
   "cell_type": "markdown",
   "metadata": {},
   "source": [
    "Теперь попробуем построить модель линейной регрессии на основании этого признака"
   ]
  },
  {
   "cell_type": "code",
   "execution_count": 25,
   "metadata": {},
   "outputs": [
    {
     "name": "stdout",
     "output_type": "stream",
     "text": [
      "Weights: [-1.34154676e-10  4.80000000e+01]\n",
      "Bias: 1.7000000476837158\n",
      "Error: 3.474019467830658e-08\n"
     ]
    }
   ],
   "source": [
    "X = df[['mounth', 'cost']]\n",
    "y = df['amount']\n",
    "reg = LinearRegression().fit(X, y)\n",
    "print('Weights: {}'.format(reg.coef_))\n",
    "print('Bias: {}'.format(reg.intercept_))\n",
    "\n",
    "pred_values = reg.predict(df[['mounth', 'cost']])\n",
    "print('Error: {}'.format(mean_absolute_error(pred_values, y)))"
   ]
  },
  {
   "cell_type": "markdown",
   "metadata": {},
   "source": [
    "Ошибка мала, коэффициент сдвига ветра рассчитался корректно. Соответственно, мы сделали правильную сборку 2 признаков в 1, это дало минимализацию ошибки"
   ]
  }
 ],
 "metadata": {
  "kernelspec": {
   "display_name": "Python 3",
   "language": "python",
   "name": "python3"
  },
  "language_info": {
   "codemirror_mode": {
    "name": "ipython",
    "version": 3
   },
   "file_extension": ".py",
   "mimetype": "text/x-python",
   "name": "python",
   "nbconvert_exporter": "python",
   "pygments_lexer": "ipython3",
   "version": "3.7.4"
  }
 },
 "nbformat": 4,
 "nbformat_minor": 2
}
